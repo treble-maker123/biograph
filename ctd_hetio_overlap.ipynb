{
 "cells": [
  {
   "cell_type": "markdown",
   "metadata": {},
   "source": [
    "# CTD/het.io Overlap"
   ]
  },
  {
   "cell_type": "code",
   "execution_count": 3,
   "metadata": {},
   "outputs": [],
   "source": [
    "import pandas as pd\n",
    "from utils.sources import load_umls\n",
    "from utils import Node, Edge"
   ]
  },
  {
   "cell_type": "code",
   "execution_count": 2,
   "metadata": {},
   "outputs": [],
   "source": [
    "UMLS_FILE_PATH = \"MRCONSO.RRF\""
   ]
  },
  {
   "cell_type": "code",
   "execution_count": 8,
   "metadata": {},
   "outputs": [
    {
     "name": "stderr",
     "output_type": "stream",
     "text": [
      "100%|██████████| 47031/47031 [00:00<00:00, 345526.24it/s]\n"
     ]
    }
   ],
   "source": [
    "hetio_nodes = Node.deserialize_bunch(\"outputs/hetio_nodes.checkpoint.json\")\n",
    "\n",
    "hetio_disease_nodes = list(filter(lambda x: x.kind == \"Disease\", hetio_nodes))\n",
    "hetio_drug_nodes = list(filter(lambda x: x.kind == \"Compound\", hetio_nodes))"
   ]
  },
  {
   "cell_type": "code",
   "execution_count": null,
   "metadata": {},
   "outputs": [],
   "source": []
  }
 ],
 "metadata": {
  "kernelspec": {
   "display_name": "Python 3",
   "language": "python",
   "name": "python3"
  },
  "language_info": {
   "codemirror_mode": {
    "name": "ipython",
    "version": 3
   },
   "file_extension": ".py",
   "mimetype": "text/x-python",
   "name": "python",
   "nbconvert_exporter": "python",
   "pygments_lexer": "ipython3",
   "version": "3.7.3"
  }
 },
 "nbformat": 4,
 "nbformat_minor": 2
}
