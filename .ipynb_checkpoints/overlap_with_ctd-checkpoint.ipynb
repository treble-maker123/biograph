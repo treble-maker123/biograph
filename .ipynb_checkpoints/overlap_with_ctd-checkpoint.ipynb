{
 "cells": [
  {
   "cell_type": "markdown",
   "metadata": {},
   "source": [
    "# CTD/het.io Overlap"
   ]
  },
  {
   "cell_type": "code",
   "execution_count": 1,
   "metadata": {},
   "outputs": [],
   "source": [
    "%reload_ext autoreload\n",
    "%autoreload 2\n",
    "\n",
    "import os\n",
    "import math\n",
    "import pandas as pd\n",
    "import numpy as np\n",
    "from utils import log\n",
    "from tqdm import tqdm\n",
    "\n",
    "from utils.sources import load_umls, load_repodb\n",
    "from utils import Node, Edge\n",
    "from utils.repodb import build_nodes as build_repodb_nodes, build_edges as build_repodb_edges\n",
    "from typing import List\n",
    "from pdb import set_trace"
   ]
  },
  {
   "cell_type": "code",
   "execution_count": 2,
   "metadata": {},
   "outputs": [],
   "source": [
    "UMLS_FILE_PATH = \"MRCONSO.RRF\"\n",
    "REPODB_FILE_PATH = \"data/repodb.csv\"\n",
    "CHEMICALS_PATH = \"data/CTD_chemicals.csv\"\n",
    "DISEASES_PATH = \"data/CTD_diseases.csv\"\n",
    "\n",
    "CHEMICAL_NODES_CHECKPOINT = \"outputs/ctd_chemical_nodes.checkpoint.json\"\n",
    "DISEASE_NODES_CHECKPOINT = \"outputs/ctd_disease_nodes.checkpoint.json\"\n",
    "\n",
    "REPODB_EDGES_CHECKPOINT = \"outputs/repodb_edges.checkpoint.json\"\n",
    "\n",
    "CHEMICAL_COLUMNS = [\n",
    "    \"ChemicalName\", \"ChemicalID\", \"CasRN\", \"Definition\", \"ParentIDs\", \"TreeNumbers\", \"ParentTreeNumbers\", \"Synonyms\",\n",
    "    \"DrugBankIDs\"\n",
    "]\n",
    "\n",
    "DISEASE_COLUMNS = [\n",
    "    \"DiseaseName\", \"DiseaseID\", \"AltDiseaseIDs\", \"Definition\", \"ParentIDs\", \"TreeNumbers\", \"ParentTreeNumbers\",\n",
    "    \"Synonyms\", \"SlimMappings\"\n",
    "]\n",
    "\n",
    "def overlap(first: List[Node], second: List[Node]) -> int:\n",
    "    num_overlap = 0\n",
    "    \n",
    "    for fir in tqdm(first):\n",
    "        for sec in second:\n",
    "            if fir == sec:\n",
    "                num_overlap += 1\n",
    "                \n",
    "    return num_overlap"
   ]
  },
  {
   "cell_type": "code",
   "execution_count": 3,
   "metadata": {},
   "outputs": [
    {
     "name": "stderr",
     "output_type": "stream",
     "text": [
      "100%|██████████| 47031/47031 [00:00<00:00, 201733.95it/s]\n"
     ]
    }
   ],
   "source": [
    "hetio_nodes = Node.deserialize_bunch(\"outputs/hetio_nodes.checkpoint.json\")\n",
    "\n",
    "hetio_disease_nodes = list(filter(lambda x: x.kind == \"Disease\", hetio_nodes))\n",
    "hetio_drug_nodes = list(filter(lambda x: x.kind == \"Compound\", hetio_nodes))"
   ]
  },
  {
   "cell_type": "code",
   "execution_count": 4,
   "metadata": {},
   "outputs": [
    {
     "name": "stderr",
     "output_type": "stream",
     "text": [
      "100%|██████████| 3646/3646 [00:00<00:00, 524234.08it/s]\n"
     ]
    }
   ],
   "source": [
    "repodb = load_repodb(REPODB_FILE_PATH)\n",
    "repodb_nodes = build_repodb_nodes(repodb, force_rebuild=False)\n",
    "\n",
    "repodb_chemical_nodes = list(filter(lambda x: x.kind == \"Compound\", repodb_nodes))\n",
    "repodb_disease_nodes = list(filter(lambda x: x.kind == \"Disease\", repodb_nodes))"
   ]
  },
  {
   "cell_type": "code",
   "execution_count": 5,
   "metadata": {
    "scrolled": true
   },
   "outputs": [
    {
     "name": "stderr",
     "output_type": "stream",
     "text": [
      "100%|██████████| 171203/171203 [00:00<00:00, 369316.61it/s]\n",
      "100%|██████████| 12985/12985 [00:00<00:00, 636585.09it/s]\n"
     ]
    }
   ],
   "source": [
    "def build_chemical_nodes(**kwargs) -> List[Node]:\n",
    "    chemicals = pd.read_csv(CHEMICALS_PATH, names=CHEMICAL_COLUMNS)\n",
    "    nodes = []\n",
    "\n",
    "    if not kwargs.get(\"force_rebuild\", False):\n",
    "        if os.path.exists(CHEMICAL_NODES_CHECKPOINT):\n",
    "            return Node.deserialize_bunch(CHEMICAL_NODES_CHECKPOINT)\n",
    "        else:\n",
    "            log.info(\"Node checkpoint does not exist, building nodes.\")\n",
    "\n",
    "    for idx, row in tqdm(chemicals.iterrows()):\n",
    "        # All of the chemicals start with \"MESH:\"\n",
    "        chemical_id = row[\"ChemicalID\"][5:]\n",
    "        chemical_name = row[\"ChemicalName\"]\n",
    "\n",
    "        # drug bank ids are delimited by \"|\"\n",
    "        drug_bank_ids = row[\"DrugBankIDs\"]\n",
    "        \n",
    "        node = Node(identifier=chemical_id, name=chemical_name, kind=\"Compound\",\n",
    "                    sources=[\"Comparative Toxicgenomic Dataset\"], license=\"?\")\n",
    "\n",
    "        if type(drug_bank_ids) == float and math.isnan(drug_bank_ids):\n",
    "            drug_bank_ids = \"\"\n",
    "\n",
    "        if \"|\" in drug_bank_ids:\n",
    "            drug_bank_ids = drug_bank_ids.split(\"|\")\n",
    "        \n",
    "        node.add_mesh_id(chemical_id)\n",
    "        \n",
    "        if not (drug_bank_ids == \"\"):\n",
    "            node.add_drug_bank_id(drug_bank_ids)\n",
    "#         node.add_alt_id(drug_bank_ids, id_type=\"DRUGBANK\")\n",
    "        nodes.append(node)\n",
    "\n",
    "    if kwargs.get(\"save_checkpoint\", True):\n",
    "        log.info(\"Check-pointing nodes...\")\n",
    "        Node.serialize_bunch(nodes, CHEMICAL_NODES_CHECKPOINT)\n",
    "\n",
    "    return nodes\n",
    "\n",
    "\n",
    "def build_disease_nodes(**kwargs) -> List[Node]:\n",
    "    diseases = pd.read_csv(DISEASES_PATH, names=DISEASE_COLUMNS)\n",
    "    nodes = []\n",
    "\n",
    "    if not kwargs.get(\"force_rebuild\", False):\n",
    "        if os.path.exists(DISEASE_NODES_CHECKPOINT):\n",
    "            return Node.deserialize_bunch(DISEASE_NODES_CHECKPOINT)\n",
    "        else:\n",
    "            log.info(\"Node checkpoint does not exist, building nodes.\")\n",
    "\n",
    "    for idx, row in tqdm(diseases.iterrows()):\n",
    "        # All of the diseases start with \"MESH:\" or \"OMIM:\"\n",
    "        disease_prefix, disease_id = row[\"DiseaseID\"][:4], row[\"DiseaseID\"][5:]\n",
    "        disease_name = row[\"DiseaseName\"]\n",
    "\n",
    "        node = Node(identifier=disease_id, name=disease_name, kind=\"Disease\",\n",
    "                    sources=[\"Comparative Toxicgenomic Dataset\"], license=\"?\")\n",
    "\n",
    "        if disease_prefix == \"MESH\":\n",
    "            node.add_mesh_id(disease_id)\n",
    "#             node.add_alt_id(disease_id, id_type=\"MESH\")\n",
    "        elif disease_prefix == \"OMIM\":\n",
    "#             node.add_alt_id(disease_id, id_type=\"OMIM\")\n",
    "            pass\n",
    "        else:\n",
    "            raise ValueError(f\"Unrecognized disease prefix: {disease_prefix}, expecting \\\"MESH\\\" or \\\"OMIM\\\".\")\n",
    "\n",
    "        nodes.append(node)\n",
    "\n",
    "    if kwargs.get(\"save_checkpoint\", True):\n",
    "        log.info(\"Check-pointing nodes...\")\n",
    "        Node.serialize_bunch(nodes, DISEASE_NODES_CHECKPOINT)\n",
    "\n",
    "    return nodes\n",
    "\n",
    "ctd_chemical_nodes = build_chemical_nodes(force_rebuild=False)\n",
    "ctd_disease_nodes = build_disease_nodes(force_rebuild=False)"
   ]
  },
  {
   "cell_type": "code",
   "execution_count": 6,
   "metadata": {
    "scrolled": false
   },
   "outputs": [
    {
     "name": "stdout",
     "output_type": "stream",
     "text": [
      "2019-11-19 22:21:41,607 [INFO] Loading UMLS file.\n"
     ]
    },
    {
     "name": "stderr",
     "output_type": "stream",
     "text": [
      "/Users/qui-gon/Workspace/anaconda3/envs/reason/lib/python3.7/site-packages/IPython/core/interactiveshell.py:3249: DtypeWarning: Columns (9,10,13) have mixed types. Specify dtype option on import or set low_memory=False.\n",
      "  if (await self.run_code(code, result,  async_=asy)):\n"
     ]
    },
    {
     "name": "stdout",
     "output_type": "stream",
     "text": [
      "2019-11-19 22:22:41,528 [INFO] Finished loading UMLS file.\n"
     ]
    },
    {
     "data": {
      "text/html": [
       "<div>\n",
       "<style scoped>\n",
       "    .dataframe tbody tr th:only-of-type {\n",
       "        vertical-align: middle;\n",
       "    }\n",
       "\n",
       "    .dataframe tbody tr th {\n",
       "        vertical-align: top;\n",
       "    }\n",
       "\n",
       "    .dataframe thead th {\n",
       "        text-align: right;\n",
       "    }\n",
       "</style>\n",
       "<table border=\"1\" class=\"dataframe\">\n",
       "  <thead>\n",
       "    <tr style=\"text-align: right;\">\n",
       "      <th></th>\n",
       "      <th>CUI</th>\n",
       "      <th>LAT</th>\n",
       "      <th>TS</th>\n",
       "      <th>LUI</th>\n",
       "      <th>STT</th>\n",
       "      <th>SUI</th>\n",
       "      <th>ISPREF</th>\n",
       "      <th>AUI</th>\n",
       "      <th>SAUI</th>\n",
       "      <th>SCUI</th>\n",
       "      <th>SDUI</th>\n",
       "      <th>SAB</th>\n",
       "      <th>TTY</th>\n",
       "      <th>CODE</th>\n",
       "      <th>STR</th>\n",
       "      <th>SRL</th>\n",
       "      <th>SUPPRESS</th>\n",
       "      <th>CVF</th>\n",
       "      <th>MISC</th>\n",
       "    </tr>\n",
       "  </thead>\n",
       "  <tbody>\n",
       "    <tr>\n",
       "      <th>0</th>\n",
       "      <td>C0000005</td>\n",
       "      <td>ENG</td>\n",
       "      <td>P</td>\n",
       "      <td>L0000005</td>\n",
       "      <td>PF</td>\n",
       "      <td>S0007492</td>\n",
       "      <td>Y</td>\n",
       "      <td>A26634265</td>\n",
       "      <td>NaN</td>\n",
       "      <td>M0019694</td>\n",
       "      <td>D012711</td>\n",
       "      <td>MSH</td>\n",
       "      <td>PEP</td>\n",
       "      <td>D012711</td>\n",
       "      <td>(131)I-Macroaggregated Albumin</td>\n",
       "      <td>0</td>\n",
       "      <td>N</td>\n",
       "      <td>256.0</td>\n",
       "      <td>NaN</td>\n",
       "    </tr>\n",
       "    <tr>\n",
       "      <th>1</th>\n",
       "      <td>C0000005</td>\n",
       "      <td>ENG</td>\n",
       "      <td>S</td>\n",
       "      <td>L0270109</td>\n",
       "      <td>PF</td>\n",
       "      <td>S0007491</td>\n",
       "      <td>Y</td>\n",
       "      <td>A26634266</td>\n",
       "      <td>NaN</td>\n",
       "      <td>M0019694</td>\n",
       "      <td>D012711</td>\n",
       "      <td>MSH</td>\n",
       "      <td>ET</td>\n",
       "      <td>D012711</td>\n",
       "      <td>(131)I-MAA</td>\n",
       "      <td>0</td>\n",
       "      <td>N</td>\n",
       "      <td>256.0</td>\n",
       "      <td>NaN</td>\n",
       "    </tr>\n",
       "    <tr>\n",
       "      <th>6</th>\n",
       "      <td>C0000039</td>\n",
       "      <td>ENG</td>\n",
       "      <td>P</td>\n",
       "      <td>L0000039</td>\n",
       "      <td>PF</td>\n",
       "      <td>S17175117</td>\n",
       "      <td>N</td>\n",
       "      <td>A28315139</td>\n",
       "      <td>9194921.0</td>\n",
       "      <td>1926948</td>\n",
       "      <td>NaN</td>\n",
       "      <td>RXNORM</td>\n",
       "      <td>IN</td>\n",
       "      <td>1926948</td>\n",
       "      <td>1,2-dipalmitoylphosphatidylcholine</td>\n",
       "      <td>0</td>\n",
       "      <td>N</td>\n",
       "      <td>256.0</td>\n",
       "      <td>NaN</td>\n",
       "    </tr>\n",
       "    <tr>\n",
       "      <th>7</th>\n",
       "      <td>C0000039</td>\n",
       "      <td>ENG</td>\n",
       "      <td>P</td>\n",
       "      <td>L0000039</td>\n",
       "      <td>PF</td>\n",
       "      <td>S17175117</td>\n",
       "      <td>Y</td>\n",
       "      <td>A28572604</td>\n",
       "      <td>NaN</td>\n",
       "      <td>NaN</td>\n",
       "      <td>NaN</td>\n",
       "      <td>MTH</td>\n",
       "      <td>PN</td>\n",
       "      <td>NOCODE</td>\n",
       "      <td>1,2-dipalmitoylphosphatidylcholine</td>\n",
       "      <td>0</td>\n",
       "      <td>N</td>\n",
       "      <td>256.0</td>\n",
       "      <td>NaN</td>\n",
       "    </tr>\n",
       "    <tr>\n",
       "      <th>8</th>\n",
       "      <td>C0000039</td>\n",
       "      <td>ENG</td>\n",
       "      <td>P</td>\n",
       "      <td>L0000039</td>\n",
       "      <td>VC</td>\n",
       "      <td>S0007564</td>\n",
       "      <td>N</td>\n",
       "      <td>A17972823</td>\n",
       "      <td>NaN</td>\n",
       "      <td>N0000007747</td>\n",
       "      <td>NaN</td>\n",
       "      <td>NDFRT</td>\n",
       "      <td>PT</td>\n",
       "      <td>N0000007747</td>\n",
       "      <td>1,2-Dipalmitoylphosphatidylcholine</td>\n",
       "      <td>0</td>\n",
       "      <td>N</td>\n",
       "      <td>NaN</td>\n",
       "      <td>NaN</td>\n",
       "    </tr>\n",
       "  </tbody>\n",
       "</table>\n",
       "</div>"
      ],
      "text/plain": [
       "        CUI  LAT TS       LUI STT        SUI ISPREF        AUI       SAUI  \\\n",
       "0  C0000005  ENG  P  L0000005  PF   S0007492      Y  A26634265        NaN   \n",
       "1  C0000005  ENG  S  L0270109  PF   S0007491      Y  A26634266        NaN   \n",
       "6  C0000039  ENG  P  L0000039  PF  S17175117      N  A28315139  9194921.0   \n",
       "7  C0000039  ENG  P  L0000039  PF  S17175117      Y  A28572604        NaN   \n",
       "8  C0000039  ENG  P  L0000039  VC   S0007564      N  A17972823        NaN   \n",
       "\n",
       "          SCUI     SDUI     SAB  TTY         CODE  \\\n",
       "0     M0019694  D012711     MSH  PEP      D012711   \n",
       "1     M0019694  D012711     MSH   ET      D012711   \n",
       "6      1926948      NaN  RXNORM   IN      1926948   \n",
       "7          NaN      NaN     MTH   PN       NOCODE   \n",
       "8  N0000007747      NaN   NDFRT   PT  N0000007747   \n",
       "\n",
       "                                  STR  SRL SUPPRESS    CVF  MISC  \n",
       "0      (131)I-Macroaggregated Albumin    0        N  256.0   NaN  \n",
       "1                          (131)I-MAA    0        N  256.0   NaN  \n",
       "6  1,2-dipalmitoylphosphatidylcholine    0        N  256.0   NaN  \n",
       "7  1,2-dipalmitoylphosphatidylcholine    0        N  256.0   NaN  \n",
       "8  1,2-Dipalmitoylphosphatidylcholine    0        N    NaN   NaN  "
      ]
     },
     "execution_count": 6,
     "metadata": {},
     "output_type": "execute_result"
    }
   ],
   "source": [
    "# Add UMLS metadata to the nodes\n",
    "umls = load_umls(\"data/MRCONSO.RRF\")\n",
    "umls.head(5)"
   ]
  },
  {
   "cell_type": "code",
   "execution_count": 7,
   "metadata": {},
   "outputs": [
    {
     "name": "stderr",
     "output_type": "stream",
     "text": [
      "100%|██████████| 12985/12985 [01:09<00:00, 166.27it/s]\n"
     ]
    }
   ],
   "source": [
    "# Add the UMLS CUIs and other MESH codes to CTD\n",
    "\n",
    "ctd_mesh_ids = list(map(lambda x: x.identifier, ctd_disease_nodes))\n",
    "umls_ctd_subset = umls[(umls[\"SAB\"] == \"MSH\") & (umls[\"CODE\"].isin(ctd_mesh_ids) )]\n",
    "\n",
    "for node in tqdm(ctd_disease_nodes):\n",
    "    matching_records = umls_ctd_subset[umls_ctd_subset[\"CODE\"] == node.identifier]\n",
    "    umls_ids = list(set(matching_records[\"CUI\"]))\n",
    "    mesh_ids = list(set(matching_records[\"CODE\"]))\n",
    "    node.add_cui(umls_ids)\n",
    "    node.add_mesh_id(umls_ids)"
   ]
  },
  {
   "cell_type": "code",
   "execution_count": 8,
   "metadata": {},
   "outputs": [
    {
     "name": "stderr",
     "output_type": "stream",
     "text": [
      "100%|██████████| 2074/2074 [00:01<00:00, 1090.61it/s]\n"
     ]
    }
   ],
   "source": [
    "# Add the UMLS CUIs and other MESH codes to RepoDB\n",
    "\n",
    "repodb_mesh_ids = list(map(lambda x: x.identifier, repodb_disease_nodes))\n",
    "umls_repodb_subset = umls[(umls[\"SAB\"] == \"MSH\") & (umls[\"CODE\"].isin(repodb_mesh_ids) )]\n",
    "\n",
    "for node in tqdm(repodb_disease_nodes):\n",
    "    matching_records = umls_repodb_subset[umls_repodb_subset[\"CODE\"] == node.identifier]\n",
    "    umls_ids = list(set(matching_records[\"CUI\"]))\n",
    "    mesh_ids = list(set(matching_records[\"CODE\"]))\n",
    "    node.add_cui(umls_ids)\n",
    "    node.add_mesh_id(umls_ids)"
   ]
  },
  {
   "cell_type": "code",
   "execution_count": 9,
   "metadata": {
    "scrolled": true
   },
   "outputs": [],
   "source": [
    "# het.io Drug overlap\n",
    "\n",
    "# print(f\"There are {len(hetio_drug_nodes)} drug nodes in het.io, {len(ctd_chemical_nodes)} drug nodes in CTD.\")\n",
    "# drug_overlap = overlap(hetio_drug_nodes, ctd_chemical_nodes)\n",
    "\n",
    "# print(f\"Drug overlap is {drug_overlap}\")\n",
    "\n",
    "# There are 1552 drug nodes in het.io, 171203 drug nodes in CTD.\n",
    "# Drug overlap is 1485"
   ]
  },
  {
   "cell_type": "code",
   "execution_count": 10,
   "metadata": {
    "scrolled": true
   },
   "outputs": [],
   "source": [
    "# het.io Disease overlap\n",
    "\n",
    "# print(f\"There are {len(hetio_disease_nodes)} disease nodes in het.io, {len(ctd_disease_nodes)} disease nodes in CTD.\")\n",
    "# disease_overlap = overlap(hetio_disease_nodes, ctd_disease_nodes)\n",
    "            \n",
    "# print(f\"Disease overlap is {disease_overlap}\")\n",
    "\n",
    "# There are 137 disease nodes in het.io, 12985 disease nodes in CTD.\n",
    "# Disease overlap is 132"
   ]
  },
  {
   "cell_type": "code",
   "execution_count": 11,
   "metadata": {
    "scrolled": false
   },
   "outputs": [],
   "source": [
    "# RepoDB Drug overlap\n",
    "\n",
    "# print(f\"There are {len(repodb_chemical_nodes)} drug nodes in repodb, {len(ctd_chemical_nodes)} drug nodes in CTD.\")\n",
    "# drug_overlap = overlap(repodb_chemical_nodes, ctd_chemical_nodes)\n",
    "\n",
    "# print(f\"Drug overlap is {drug_overlap}\") \n",
    "\n",
    "# There are 1572 drug nodes in repodb, 171203 drug nodes in CTD.\n",
    "# Drug overlap is 1427"
   ]
  },
  {
   "cell_type": "code",
   "execution_count": 12,
   "metadata": {},
   "outputs": [],
   "source": [
    "# RepoDB Disease overlap\n",
    "\n",
    "# print(f\"There are {len(repodb_disease_nodes)} disease nodes in repodb, {len(ctd_disease_nodes)} disease nodes in CTD.\")\n",
    "# disease_overlap = overlap(repodb_disease_nodes, ctd_disease_nodes)\n",
    "            \n",
    "# print(f\"Disease overlap is {disease_overlap}\")\n",
    "\n",
    "# There are 2074 disease nodes in repodb, 12985 disease nodes in CTD.\n",
    "# Disease overlap is 1076"
   ]
  },
  {
   "cell_type": "code",
   "execution_count": 13,
   "metadata": {},
   "outputs": [],
   "source": [
    "# RepoDB disease overlap with het.io disease\n",
    "\n",
    "# disease_overlap = overlap(repodb_disease_nodes, hetio_disease_nodes)\n",
    "# print(f\"Disease overlap is {disease_overlap}.\")\n",
    "\n",
    "# Disease overlap is 85."
   ]
  },
  {
   "cell_type": "code",
   "execution_count": 14,
   "metadata": {},
   "outputs": [],
   "source": [
    "# RepoDB drugs overlap with het.io drugs\n",
    "\n",
    "# drug_overlap = overlap(repodb_chemical_nodes, hetio_drug_nodes)\n",
    "# print(f\"Drug overlap is {drug_overlap}.\")\n",
    "\n",
    "# Drug overlap is 1198."
   ]
  },
  {
   "cell_type": "code",
   "execution_count": 16,
   "metadata": {
    "scrolled": false
   },
   "outputs": [
    {
     "name": "stderr",
     "output_type": "stream",
     "text": [
      "100%|██████████| 10562/10562 [00:00<00:00, 334505.52it/s]"
     ]
    },
    {
     "name": "stdout",
     "output_type": "stream",
     "text": [
      "There are 10562 edges before filtering.\n"
     ]
    },
    {
     "name": "stderr",
     "output_type": "stream",
     "text": [
      "\n"
     ]
    },
    {
     "name": "stdout",
     "output_type": "stream",
     "text": [
      "There are 5588 edges after filtering.\n"
     ]
    }
   ],
   "source": [
    "# How many RepoDB edges where both head and tail exist in het.io?\n",
    "\n",
    "# ctd_chemical_nodes\n",
    "# ctd_disease_nodes\n",
    "\n",
    "from multiprocess import Pool\n",
    "\n",
    "def isin(node: Node, nodes: List[Node]) -> bool:\n",
    "    for n in nodes:\n",
    "        if node == n:\n",
    "            return True\n",
    "        \n",
    "    return False\n",
    "\n",
    "repodb_edges = build_repodb_edges(repodb, repodb_nodes, force_rebuild=False)\n",
    "print(f\"There are {len(repodb_edges)} edges before filtering.\")\n",
    "\n",
    "with Pool(8) as pool:\n",
    "    repodb_edges = pool.map(lambda x: x if isin(x.source, ctd_chemical_nodes) and isin(x.destination, ctd_disease_nodes) else None, repodb_edges)\n",
    "\n",
    "# edges = list(filter(lambda x: isin(x.source, ctd_chemical_nodes) and isin(x.destination, ctd_disease_nodes), repodb_edges))\n",
    "\n",
    "# for edge in tqdm(repodb_edges):\n",
    "#     head, tail = edge.source, edge.destination\n",
    "#     if isin(head, ctd_chemical_nodes) and isin(tail, ctd_disease_nodes):\n",
    "#         edges.append(edge)\n",
    "\n",
    "repodb_edges = list(filter(lambda x: x is not None, repodb_edges))\n",
    "print(f\"There are {len(repodb_edges)} edges after filtering.\")\n",
    "# There are 10562 edges."
   ]
  },
  {
   "cell_type": "code",
   "execution_count": 17,
   "metadata": {
    "scrolled": true
   },
   "outputs": [
    {
     "name": "stdout",
     "output_type": "stream",
     "text": [
      "There are 11176 nodes\n",
      "There are 1316 unique chemical nodes.\n",
      "There are 1027 unique disease nodes.\n"
     ]
    }
   ],
   "source": [
    "from itertools import chain\n",
    "from collections import Counter\n",
    "\n",
    "nodes = list(map(lambda x: (x.source, x.destination), repodb_edges))\n",
    "nodes = list(chain(*nodes))\n",
    "\n",
    "print(f\"There are {len(nodes)} nodes\")\n",
    "\n",
    "chemical_nodes = list(filter(lambda x: x.kind == \"Compound\", nodes))\n",
    "disease_nodes = list(filter(lambda x: x.kind == \"Disease\", nodes))\n",
    "\n",
    "print(f\"There are {len(set(chemical_nodes))} unique chemical nodes.\")\n",
    "print(f\"There are {len(set(disease_nodes))} unique disease nodes.\")\n",
    "\n",
    "chemical_counter = Counter(chemical_nodes)\n",
    "disease_counter = Counter(disease_nodes)"
   ]
  },
  {
   "cell_type": "code",
   "execution_count": 33,
   "metadata": {},
   "outputs": [
    {
     "data": {
      "image/png": "[encoded data removed]",
      "text/plain": [
       "<Figure size 432x288 with 1 Axes>"
      ]
     },
     "metadata": {
      "needs_background": "light"
     },
     "output_type": "display_data"
    },
    {
     "data": {
      "image/png": "[encoded data removed]",
      "text/plain": [
       "<Figure size 432x288 with 1 Axes>"
      ]
     },
     "metadata": {
      "needs_background": "light"
     },
     "output_type": "display_data"
    }
   ],
   "source": [
    "chemical_names, chemical_freq = list(zip(*Counter(list(map(lambda x: x.name, chemical_nodes))).items()))\n",
    "disease_names, disease_freq = list(zip(*Counter(list(map(lambda x: x.name, disease_nodes))).items()))\n",
    "\n",
    "chemical_freq = np.array(chemical_freq)\n",
    "disease_freq = np.array(disease_freq)\n",
    "\n",
    "import seaborn as sns\n",
    "from matplotlib import pyplot as plt\n",
    "\n",
    "# x-axis frequency\n",
    "# y-axis how many\n",
    "sns.distplot(chemical_freq, bins=20, kde=False)\n",
    "plt.show()\n",
    "\n",
    "sns.distplot(disease_freq, bins=20, kde=False)\n",
    "plt.show()"
   ]
  },
  {
   "cell_type": "code",
   "execution_count": 18,
   "metadata": {
    "scrolled": true
   },
   "outputs": [
    {
     "name": "stdout",
     "output_type": "stream",
     "text": [
      "There are 4068 treats edges.\n",
      "There are 1520 not treats edges.\n"
     ]
    }
   ],
   "source": [
    "treats_edges = list(filter(lambda x: x.kind == \"treats\", repodb_edges))\n",
    "not_treats_edges = list(filter(lambda x: x.kind == \"not_treats\", repodb_edges))\n",
    "\n",
    "print(f\"There are {len(treats_edges)} treats edges.\")\n",
    "print(f\"There are {len(not_treats_edges)} not treats edges.\")"
   ]
  },
  {
   "cell_type": "code",
   "execution_count": null,
   "metadata": {},
   "outputs": [],
   "source": [
    "# most_common_chemicals = chemical_counter.most_common(10)\n",
    "# most_common_diseases = disease_counter.most_common(10)\n",
    "\n",
    "# print(\"\")\n",
    "# print(f\"The most common chemicals:\")\n",
    "\n",
    "# for chem in most_common_chemicals:\n",
    "#     print(f\"{chem[0].name}: {chem[1]}\")\n",
    "\n",
    "# print(\"\")\n",
    "# print(f\"The most common diseases:\")\n",
    "\n",
    "# for disease in most_common_diseases:\n",
    "#     print(f\"{disease[0].name}: {disease[1]}\")"
   ]
  }
 ],
 "metadata": {
  "kernelspec": {
   "display_name": "Python 3",
   "language": "python",
   "name": "python3"
  },
  "language_info": {
   "codemirror_mode": {
    "name": "ipython",
    "version": 3
   },
   "file_extension": ".py",
   "mimetype": "text/x-python",
   "name": "python",
   "nbconvert_exporter": "python",
   "pygments_lexer": "ipython3",
   "version": "3.7.3"
  }
 },
 "nbformat": 4,
 "nbformat_minor": 2
}
